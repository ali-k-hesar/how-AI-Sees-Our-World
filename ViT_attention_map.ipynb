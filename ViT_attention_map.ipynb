{
 "cells": [
  {
   "cell_type": "code",
   "execution_count": null,
   "outputs": [],
   "source": [
    "# Stolen From https://github.com/jeonsworld/ViT-pytorch.git with some small changes\n",
    "# \"->\" comments added to the original code"
   ],
   "metadata": {
    "collapsed": false,
    "pycharm": {
     "name": "#%%\n"
    }
   }
  },
  {
   "cell_type": "code",
   "execution_count": null,
   "outputs": [],
   "source": [
    "import os\n",
    "import torch\n",
    "import numpy as np\n",
    "import cv2\n",
    "import matplotlib.pyplot as plt\n",
    "from urllib.request import urlretrieve\n",
    "from PIL import Image\n",
    "from torchvision import transforms\n",
    "\n",
    "from vit_models.modeling import VisionTransformer, CONFIGS"
   ],
   "metadata": {
    "collapsed": false,
    "pycharm": {
     "name": "#%%\n"
    }
   }
  },
  {
   "cell_type": "code",
   "execution_count": null,
   "outputs": [],
   "source": [
    "model_name = \"ViT-B_16-224\"\n",
    "os.makedirs(\"vit_models/attention_data\", exist_ok=True)\n",
    "if not os.path.isfile(\"vit_models/attention_data/ilsvrc2012_wordnet_lemmas.txt\"):\n",
    "    urlretrieve(\"https://storage.googleapis.com/bit_models/ilsvrc2012_wordnet_lemmas.txt\", \"attention_data/ilsvrc2012_wordnet_lemmas.txt\")\n",
    "if not os.path.isfile(f\"vit_models/attention_data/{model_name}.npz\"):\n",
    "    urlretrieve(f\"https://storage.googleapis.com/vit_models/imagenet21k+imagenet2012/{model_name}.npz\", f\"attention_data/{model_name}.npz\")\n",
    "\n",
    "imagenet_labels = dict(enumerate(open('vit_models/attention_data/ilsvrc2012_wordnet_lemmas.txt')))"
   ],
   "metadata": {
    "collapsed": false,
    "pycharm": {
     "name": "#%%\n"
    }
   }
  },
  {
   "cell_type": "code",
   "execution_count": null,
   "outputs": [],
   "source": [
    "# Prepare Model\n",
    "config = CONFIGS[model_name[:-4]]\n",
    "model = VisionTransformer(config, num_classes=1000, zero_head=False, img_size=224, vis=True)\n",
    "model.load_from(np.load(f\"vit_models/attention_data/{model_name}.npz\"))\n",
    "model.eval()\n",
    "\n",
    "transform = transforms.Compose([\n",
    "    transforms.Resize((224, 224)),\n",
    "    transforms.ToTensor(),\n",
    "    transforms.Normalize(mean=[0.5, 0.5, 0.5], std=[0.5, 0.5, 0.5]),\n",
    "])\n",
    "\n",
    "im = Image.open(\"pics/corgi_image.jpg\")\n",
    "x = transform(im)\n",
    "print(f\"input image shape: {x.shape}\")"
   ],
   "metadata": {
    "collapsed": false,
    "pycharm": {
     "name": "#%%\n"
    }
   }
  },
  {
   "cell_type": "code",
   "execution_count": null,
   "outputs": [],
   "source": [
    "with torch.no_grad():\n",
    "    logits, att_mat = model(x.unsqueeze(0))\n",
    "\n",
    "# -> Stack attention maps across all layers\n",
    "att_mat = torch.stack(att_mat).squeeze(1)\n",
    "\n",
    "# Average the attention weights across all heads.\n",
    "att_mat = torch.mean(att_mat, dim=1)\n",
    "\n",
    "# To account for residual connections, we add an identity matrix to the\n",
    "# attention matrix and re-normalize the weights.\n",
    "# -> if q0 pays attention to all tokens and create weighted sum of values (sum of weights = 1)\n",
    "# -> then the result will be added to x0 before self-attention (skip connection in transformer architecture)\n",
    "# -> so it's like paying attention to x0(v0) as separate token with weight = 1\n",
    "residual_att = torch.eye(att_mat.size(1))\n",
    "aug_att_mat = att_mat + residual_att\n",
    "# -> sum of weights for each q should be 1\n",
    "# -> all weights are positive so softmax isn't necessary, and also the distribution is still sharp from last softmax\n",
    "aug_att_mat = aug_att_mat / aug_att_mat.sum(dim=-1).unsqueeze(-1)\n",
    "\n",
    "# Recursively multiply the weight matrices\n",
    "joint_attentions = torch.zeros(aug_att_mat.size())\n",
    "joint_attentions[0] = aug_att_mat[0]\n",
    "\n",
    "# -> Final joint_attentions: attn_mat[-1] @ (attn_mat[-2] @ (attn_mat[-3] , (attn_mat[-4] , ...)))\n",
    "for n in range(1, aug_att_mat.size(0)):\n",
    "    joint_attentions[n] = torch.matmul(aug_att_mat[n], joint_attentions[n-1])\n",
    "\n",
    "# Attention from the output token to the input space.\n",
    "v = joint_attentions[-1]\n",
    "grid_size = int(np.sqrt(aug_att_mat.size(-1)))\n",
    "mask = v[0, 1:].reshape(grid_size, grid_size).detach().numpy()\n",
    "mask = cv2.resize(mask / mask.max(), im.size)[..., np.newaxis]\n",
    "result = (mask * im).astype(\"uint8\")\n",
    "cv2.imwrite('_results/ViT_B_mask.jpg', cv2.applyColorMap(np.uint8(mask[:, :, 0] * 255), cv2.COLORMAP_INFERNO))"
   ],
   "metadata": {
    "collapsed": false,
    "pycharm": {
     "name": "#%%\n"
    }
   }
  },
  {
   "cell_type": "code",
   "execution_count": null,
   "outputs": [],
   "source": [
    "fig, (ax1, ax2) = plt.subplots(ncols=2, figsize=(16, 16))\n",
    "\n",
    "ax1.set_title('Original')\n",
    "ax2.set_title('Attention Map')\n",
    "_ = ax1.imshow(im)\n",
    "_ = ax2.imshow(result)\n",
    "\n",
    "probs = torch.nn.Softmax(dim=-1)(logits)\n",
    "top5 = torch.argsort(probs, dim=-1, descending=True)\n",
    "print(\"Prediction Label and Attention Map!\\n\")\n",
    "for idx in top5[0, :5]:\n",
    "    print(f'{probs[0, idx.item()]:.5f} : {imagenet_labels[idx.item()]}', end='')"
   ],
   "metadata": {
    "collapsed": false,
    "pycharm": {
     "name": "#%%\n"
    }
   }
  },
  {
   "cell_type": "code",
   "execution_count": null,
   "outputs": [],
   "source": [
    "for i, v in enumerate(joint_attentions):\n",
    "    # Attention from the output token to the input space.\n",
    "    mask = v[0, 1:].reshape(grid_size, grid_size).detach().numpy()\n",
    "    mask = cv2.resize(mask / mask.max(), im.size)[..., np.newaxis]\n",
    "    result = (mask * im).astype(\"uint8\")\n",
    "\n",
    "    fig, (ax1, ax2) = plt.subplots(ncols=2, figsize=(16, 16))\n",
    "    ax1.set_title('Original')\n",
    "    ax2.set_title('Attention Map_%d Layer' % (i+1))\n",
    "    _ = ax1.imshow(im)\n",
    "    _ = ax2.imshow(result)\n",
    "    # plt.imsave(f'_results/ViT_B_mask_layer_{i:02d}.jpg', mask[:, :, 0])\n",
    "    cv2.imwrite(f'_results/ViT_B_mask_layer{i:02d}.jpg', cv2.applyColorMap(np.uint8(mask[:, :, 0] * 255.), cv2.COLORMAP_INFERNO))"
   ],
   "metadata": {
    "collapsed": false,
    "pycharm": {
     "name": "#%%\n"
    }
   }
  },
  {
   "cell_type": "code",
   "execution_count": null,
   "outputs": [],
   "source": [],
   "metadata": {
    "collapsed": false,
    "pycharm": {
     "name": "#%%\n"
    }
   }
  }
 ],
 "metadata": {
  "kernelspec": {
   "display_name": "Python 3",
   "language": "python",
   "name": "python3"
  },
  "language_info": {
   "codemirror_mode": {
    "name": "ipython",
    "version": 2
   },
   "file_extension": ".py",
   "mimetype": "text/x-python",
   "name": "python",
   "nbconvert_exporter": "python",
   "pygments_lexer": "ipython2",
   "version": "2.7.6"
  }
 },
 "nbformat": 4,
 "nbformat_minor": 0
}